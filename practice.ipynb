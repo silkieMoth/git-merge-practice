{
  "cells": [
    {
      "cell_type": "markdown",
      "metadata": {},
      "source": [
        "# Testing merge conflicts\n",
        "\n",
        "Start by importing the required packages:\n"
      ],
      "id": "20dab20e"
    },
    {
      "cell_type": "code",
      "metadata": {},
      "source": [
        "import pandas as pd"
      ],
      "id": "41524bbe",
      "execution_count": null,
      "outputs": []
    },
    {
      "cell_type": "markdown",
      "metadata": {},
      "source": [
        "Let's create a sample dataset to work with:\n"
      ],
      "id": "8a2e72fc"
    },
    {
      "cell_type": "code",
      "metadata": {},
      "source": [
        "# Create Star Wars DataFrame\n",
        "star_wars_df = pd.DataFrame({\n",
        "    \"name\": [\"Luke Skywalker\", \"Darth Vader\", \"Leia Organa\", \"Han Solo\", \"Yoda\", \"Chewbacca\"],\n",
        "    \"height\": [172, 202, 150, 180, 66, 228],\n",
        "    \"mass\": [77, 136, 49, 80, 17, 112],\n",
        "    \"species\": [\"Human\", \"Human\", \"Human\", \"Human\", \"Yoda's species\", \"Wookiee\"]\n",
        "})\n",
        "star_wars_df"
      ],
      "id": "c02a6d1f",
      "execution_count": null,
      "outputs": []
    },
    {
      "cell_type": "markdown",
      "metadata": {},
      "source": [
        "And do something with it:\n"
      ],
      "id": "2dc6ac54"
    },
    {
      "cell_type": "code",
      "metadata": {},
      "source": [
        "# Your code goes here"
      ],
      "id": "95c5af31",
      "execution_count": null,
      "outputs": []
    }
  ],
  "metadata": {
    "kernelspec": {
      "display_name": "Python 3",
      "language": "python",
      "name": "python3"
    }
  },
  "nbformat": 4,
  "nbformat_minor": 5
}